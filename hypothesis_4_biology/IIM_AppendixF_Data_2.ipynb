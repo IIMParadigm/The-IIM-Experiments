{
  "nbformat": 4,
  "nbformat_minor": 0,
  "metadata": {
    "colab": {
      "provenance": [],
      "machine_shape": "hm",
      "gpuType": "V6E1"
    },
    "kernelspec": {
      "name": "python3",
      "display_name": "Python 3"
    },
    "language_info": {
      "name": "python"
    },
    "accelerator": "TPU",
    "widgets": {
      "application/vnd.jupyter.widget-state+json": {
        "4b506bd4b3664ceeab0338c6437a1169": {
          "model_module": "@jupyter-widgets/output",
          "model_name": "OutputModel",
          "model_module_version": "1.0.0",
          "state": {
            "_dom_classes": [],
            "_model_module": "@jupyter-widgets/output",
            "_model_module_version": "1.0.0",
            "_model_name": "OutputModel",
            "_view_count": null,
            "_view_module": "@jupyter-widgets/output",
            "_view_module_version": "1.0.0",
            "_view_name": "OutputView",
            "layout": "IPY_MODEL_d4d7c4ce846645daa58f30fa3873bdff",
            "msg_id": "",
            "outputs": [
              {
                "output_type": "display_data",
                "data": {
                  "text/plain": "                                                                                                                   \n \u001b[1m \u001b[0m\u001b[1mProgress                \u001b[0m\u001b[1m \u001b[0m \u001b[1m \u001b[0m\u001b[1mDraws\u001b[0m\u001b[1m \u001b[0m \u001b[1m \u001b[0m\u001b[1mDivergences\u001b[0m\u001b[1m \u001b[0m \u001b[1m \u001b[0m\u001b[1mStep size\u001b[0m\u001b[1m \u001b[0m \u001b[1m \u001b[0m\u001b[1mGrad evals\u001b[0m\u001b[1m \u001b[0m \u001b[1m \u001b[0m\u001b[1mSampling Speed \u001b[0m\u001b[1m \u001b[0m \u001b[1m \u001b[0m\u001b[1mElapsed\u001b[0m\u001b[1m \u001b[0m \u001b[1m \u001b[0m\u001b[1mRemaining\u001b[0m\u001b[1m \u001b[0m \n ───────────────────────────────────────────────────────────────────────────────────────────────────────────────── \n  \u001b[38;2;31;119;180m━━━━━━━━━━━━━━━━━━━━━━━━\u001b[0m   3500    0             0.90        1            2064.86 draws/s   0:00:01   0:00:00    \n  \u001b[38;2;31;119;180m━━━━━━━━━━━━━━━━━━━━━━━━\u001b[0m   3500    0             0.78        1            910.40 draws/s    0:00:03   0:00:00    \n                                                                                                                   \n",
                  "text/html": "<pre style=\"white-space:pre;overflow-x:auto;line-height:normal;font-family:Menlo,'DejaVu Sans Mono',consolas,'Courier New',monospace\">                                                                                                                   \n <span style=\"font-weight: bold\"> Progress                 </span> <span style=\"font-weight: bold\"> Draws </span> <span style=\"font-weight: bold\"> Divergences </span> <span style=\"font-weight: bold\"> Step size </span> <span style=\"font-weight: bold\"> Grad evals </span> <span style=\"font-weight: bold\"> Sampling Speed  </span> <span style=\"font-weight: bold\"> Elapsed </span> <span style=\"font-weight: bold\"> Remaining </span> \n ───────────────────────────────────────────────────────────────────────────────────────────────────────────────── \n  <span style=\"color: #1f77b4; text-decoration-color: #1f77b4\">━━━━━━━━━━━━━━━━━━━━━━━━</span>   3500    0             0.90        1            2064.86 draws/s   0:00:01   0:00:00    \n  <span style=\"color: #1f77b4; text-decoration-color: #1f77b4\">━━━━━━━━━━━━━━━━━━━━━━━━</span>   3500    0             0.78        1            910.40 draws/s    0:00:03   0:00:00    \n                                                                                                                   \n</pre>\n"
                },
                "metadata": {}
              }
            ]
          }
        },
        "d4d7c4ce846645daa58f30fa3873bdff": {
          "model_module": "@jupyter-widgets/base",
          "model_name": "LayoutModel",
          "model_module_version": "1.2.0",
          "state": {
            "_model_module": "@jupyter-widgets/base",
            "_model_module_version": "1.2.0",
            "_model_name": "LayoutModel",
            "_view_count": null,
            "_view_module": "@jupyter-widgets/base",
            "_view_module_version": "1.2.0",
            "_view_name": "LayoutView",
            "align_content": null,
            "align_items": null,
            "align_self": null,
            "border": null,
            "bottom": null,
            "display": null,
            "flex": null,
            "flex_flow": null,
            "grid_area": null,
            "grid_auto_columns": null,
            "grid_auto_flow": null,
            "grid_auto_rows": null,
            "grid_column": null,
            "grid_gap": null,
            "grid_row": null,
            "grid_template_areas": null,
            "grid_template_columns": null,
            "grid_template_rows": null,
            "height": null,
            "justify_content": null,
            "justify_items": null,
            "left": null,
            "margin": null,
            "max_height": null,
            "max_width": null,
            "min_height": null,
            "min_width": null,
            "object_fit": null,
            "object_position": null,
            "order": null,
            "overflow": null,
            "overflow_x": null,
            "overflow_y": null,
            "padding": null,
            "right": null,
            "top": null,
            "visibility": null,
            "width": null
          }
        },
        "bda5e679c2b54fb99069bec5760fca55": {
          "model_module": "@jupyter-widgets/output",
          "model_name": "OutputModel",
          "model_module_version": "1.0.0",
          "state": {
            "_dom_classes": [],
            "_model_module": "@jupyter-widgets/output",
            "_model_module_version": "1.0.0",
            "_model_name": "OutputModel",
            "_view_count": null,
            "_view_module": "@jupyter-widgets/output",
            "_view_module_version": "1.0.0",
            "_view_name": "OutputView",
            "layout": "IPY_MODEL_56ed4c0d178f46a49fc10389298a6e3c",
            "msg_id": "",
            "outputs": [
              {
                "output_type": "display_data",
                "data": {
                  "text/plain": "                                                                                                                   \n \u001b[1m \u001b[0m\u001b[1mProgress                \u001b[0m\u001b[1m \u001b[0m \u001b[1m \u001b[0m\u001b[1mDraws\u001b[0m\u001b[1m \u001b[0m \u001b[1m \u001b[0m\u001b[1mDivergences\u001b[0m\u001b[1m \u001b[0m \u001b[1m \u001b[0m\u001b[1mStep size\u001b[0m\u001b[1m \u001b[0m \u001b[1m \u001b[0m\u001b[1mGrad evals\u001b[0m\u001b[1m \u001b[0m \u001b[1m \u001b[0m\u001b[1mSampling Speed \u001b[0m\u001b[1m \u001b[0m \u001b[1m \u001b[0m\u001b[1mElapsed\u001b[0m\u001b[1m \u001b[0m \u001b[1m \u001b[0m\u001b[1mRemaining\u001b[0m\u001b[1m \u001b[0m \n ───────────────────────────────────────────────────────────────────────────────────────────────────────────────── \n  \u001b[38;2;31;119;180m━━━━━━━━━━━━━━━━━━━━━━━━\u001b[0m   3500    0             0.61        7            1493.23 draws/s   0:00:02   0:00:00    \n  \u001b[38;2;31;119;180m━━━━━━━━━━━━━━━━━━━━━━━━\u001b[0m   3500    0             0.62        7            738.51 draws/s    0:00:04   0:00:00    \n                                                                                                                   \n",
                  "text/html": "<pre style=\"white-space:pre;overflow-x:auto;line-height:normal;font-family:Menlo,'DejaVu Sans Mono',consolas,'Courier New',monospace\">                                                                                                                   \n <span style=\"font-weight: bold\"> Progress                 </span> <span style=\"font-weight: bold\"> Draws </span> <span style=\"font-weight: bold\"> Divergences </span> <span style=\"font-weight: bold\"> Step size </span> <span style=\"font-weight: bold\"> Grad evals </span> <span style=\"font-weight: bold\"> Sampling Speed  </span> <span style=\"font-weight: bold\"> Elapsed </span> <span style=\"font-weight: bold\"> Remaining </span> \n ───────────────────────────────────────────────────────────────────────────────────────────────────────────────── \n  <span style=\"color: #1f77b4; text-decoration-color: #1f77b4\">━━━━━━━━━━━━━━━━━━━━━━━━</span>   3500    0             0.61        7            1493.23 draws/s   0:00:02   0:00:00    \n  <span style=\"color: #1f77b4; text-decoration-color: #1f77b4\">━━━━━━━━━━━━━━━━━━━━━━━━</span>   3500    0             0.62        7            738.51 draws/s    0:00:04   0:00:00    \n                                                                                                                   \n</pre>\n"
                },
                "metadata": {}
              }
            ]
          }
        },
        "56ed4c0d178f46a49fc10389298a6e3c": {
          "model_module": "@jupyter-widgets/base",
          "model_name": "LayoutModel",
          "model_module_version": "1.2.0",
          "state": {
            "_model_module": "@jupyter-widgets/base",
            "_model_module_version": "1.2.0",
            "_model_name": "LayoutModel",
            "_view_count": null,
            "_view_module": "@jupyter-widgets/base",
            "_view_module_version": "1.2.0",
            "_view_name": "LayoutView",
            "align_content": null,
            "align_items": null,
            "align_self": null,
            "border": null,
            "bottom": null,
            "display": null,
            "flex": null,
            "flex_flow": null,
            "grid_area": null,
            "grid_auto_columns": null,
            "grid_auto_flow": null,
            "grid_auto_rows": null,
            "grid_column": null,
            "grid_gap": null,
            "grid_row": null,
            "grid_template_areas": null,
            "grid_template_columns": null,
            "grid_template_rows": null,
            "height": null,
            "justify_content": null,
            "justify_items": null,
            "left": null,
            "margin": null,
            "max_height": null,
            "max_width": null,
            "min_height": null,
            "min_width": null,
            "object_fit": null,
            "object_position": null,
            "order": null,
            "overflow": null,
            "overflow_x": null,
            "overflow_y": null,
            "padding": null,
            "right": null,
            "top": null,
            "visibility": null,
            "width": null
          }
        }
      }
    }
  },
  "cells": [
    {
      "cell_type": "code",
      "execution_count": null,
      "metadata": {
        "colab": {
          "base_uri": "https://localhost:8080/"
        },
        "id": "I_89j_r0YJAx",
        "outputId": "c2438497-42e4-431b-a5bd-590fec3c8477"
      },
      "outputs": [
        {
          "output_type": "stream",
          "name": "stdout",
          "text": [
            "Running on PyMC v5.25.1\n"
          ]
        }
      ],
      "source": [
        "# Install and import necessary libraries\n",
        "!pip install pymc>=5.0 arviz numpy scipy --quiet\n",
        "import pymc as pm\n",
        "import arviz as az\n",
        "import numpy as np\n",
        "import matplotlib.pyplot as plt\n",
        "\n",
        "print(f\"Running on PyMC v{pm.__version__}\")"
      ]
    },
    {
      "cell_type": "code",
      "source": [
        "# This is a representative subset of real black hole masses and spins from the LIGO-Virgo catalog.\n",
        "# A spin of 1 is maximum, 0 is non-spinning.\n",
        "black_hole_masses = np.array([35.6, 30.6, 62.0, 23.2, 13.7, 8.9]) # in Solar Masses\n",
        "black_hole_spins_observed = np.array([0.69, 0.71, 0.80, 0.65, 0.40, 0.55])\n",
        "spin_uncertainty = np.array([0.05, 0.06, 0.08, 0.07, 0.1, 0.12])"
      ],
      "metadata": {
        "id": "ELTnQmtwYSY8"
      },
      "execution_count": null,
      "outputs": []
    },
    {
      "cell_type": "code",
      "source": [
        "# A simplified function for the maximum spin a black hole can have\n",
        "# in the presence of an axion field (Standard Superradiance).\n",
        "def get_max_spin_standard(mass, axion_mass_eV=2e-13):\n",
        "    # This simplified formula captures the essence of superradiance:\n",
        "    # more massive black holes spin down more for a given axion mass.\n",
        "    return 0.99 - 0.8 * (mass / 80)**2 * (axion_mass_eV / 2e-13)"
      ],
      "metadata": {
        "id": "ZDPLg6QHYUik"
      },
      "execution_count": null,
      "outputs": []
    },
    {
      "cell_type": "code",
      "source": [
        "# --- Model 1: The Standard Model (Superradiance only) ---\n",
        "with pm.Model() as model_standard:\n",
        "    # Prior for the axion mass\n",
        "    axion_mass = pm.LogNormal('axion_mass', mu=np.log(2e-13), sigma=0.5)\n",
        "\n",
        "    # The standard model prediction for the maximum spin\n",
        "    max_spin_standard = get_max_spin_standard(black_hole_masses, axion_mass)\n",
        "\n",
        "    # Likelihood\n",
        "    likelihood_standard = pm.Normal('likelihood', mu=max_spin_standard, sigma=spin_uncertainty, observed=black_hole_spins_observed)\n",
        "\n",
        "    # Run the sampler for the standard model\n",
        "    print(\"Running sampler for Standard Model...\")\n",
        "    trace_standard = pm.sample(2000, tune=1500, idata_kwargs={'log_likelihood': True}, target_accept=0.95)\n",
        "    print(\"Standard Model sampling complete.\")"
      ],
      "metadata": {
        "colab": {
          "base_uri": "https://localhost:8080/",
          "height": 152,
          "referenced_widgets": [
            "4b506bd4b3664ceeab0338c6437a1169",
            "d4d7c4ce846645daa58f30fa3873bdff"
          ]
        },
        "id": "A-aBQ8S_YWCV",
        "outputId": "23cd975e-81ba-4922-f1f9-0142bc86f074"
      },
      "execution_count": null,
      "outputs": [
        {
          "output_type": "stream",
          "name": "stdout",
          "text": [
            "Running sampler for Standard Model...\n"
          ]
        },
        {
          "output_type": "display_data",
          "data": {
            "text/plain": [
              "Output()"
            ],
            "application/vnd.jupyter.widget-view+json": {
              "version_major": 2,
              "version_minor": 0,
              "model_id": "4b506bd4b3664ceeab0338c6437a1169"
            }
          },
          "metadata": {}
        },
        {
          "output_type": "display_data",
          "data": {
            "text/plain": [],
            "text/html": [
              "<pre style=\"white-space:pre;overflow-x:auto;line-height:normal;font-family:Menlo,'DejaVu Sans Mono',consolas,'Courier New',monospace\"></pre>\n"
            ]
          },
          "metadata": {}
        },
        {
          "output_type": "stream",
          "name": "stdout",
          "text": [
            "Standard Model sampling complete.\n"
          ]
        }
      ]
    },
    {
      "cell_type": "code",
      "source": [
        "# --- Model 2: The IIM Model (Superradiance + Anomalous Drag) ---\n",
        "with pm.Model() as model_iim:\n",
        "    # Priors for axion mass and the IIM's Kappa constant\n",
        "    axion_mass_iim = pm.LogNormal('axion_mass_iim', mu=np.log(2e-13), sigma=0.5)\n",
        "    kappa = pm.Normal('kappa', mu=4.0, sigma=3.0)\n",
        "\n",
        "    # The IIM Anomaly\n",
        "    delta_F = -0.0082 # From our previous real discovery\n",
        "    delta_G = pm.Deterministic('delta_G', kappa * delta_F)\n",
        "\n",
        "    # IIM Prediction\n",
        "    max_spin_standard_iim = get_max_spin_standard(black_hole_masses, axion_mass_iim)\n",
        "    max_spin_iim = pm.Deterministic('max_spin_iim', max_spin_standard_iim * (1 + delta_G))\n",
        "\n",
        "    # Likelihood\n",
        "    likelihood_iim = pm.Normal('likelihood_iim', mu=max_spin_iim, sigma=spin_uncertainty, observed=black_hole_spins_observed)\n",
        "\n",
        "    # Run the sampler for the IIM model\n",
        "    print(\"\\nRunning sampler for IIM Anomaly Model...\")\n",
        "    trace_iim = pm.sample(2000, tune=1500, idata_kwargs={'log_likelihood': True}, target_accept=0.95)\n",
        "    print(\"IIM Model sampling complete.\")"
      ],
      "metadata": {
        "colab": {
          "base_uri": "https://localhost:8080/",
          "height": 170,
          "referenced_widgets": [
            "bda5e679c2b54fb99069bec5760fca55",
            "56ed4c0d178f46a49fc10389298a6e3c"
          ]
        },
        "id": "VcAHj9ScYYCk",
        "outputId": "f1a12037-d8b9-4239-c3e3-40cf76f4cd06"
      },
      "execution_count": null,
      "outputs": [
        {
          "output_type": "stream",
          "name": "stdout",
          "text": [
            "\n",
            "Running sampler for IIM Anomaly Model...\n"
          ]
        },
        {
          "output_type": "display_data",
          "data": {
            "text/plain": [
              "Output()"
            ],
            "application/vnd.jupyter.widget-view+json": {
              "version_major": 2,
              "version_minor": 0,
              "model_id": "bda5e679c2b54fb99069bec5760fca55"
            }
          },
          "metadata": {}
        },
        {
          "output_type": "display_data",
          "data": {
            "text/plain": [],
            "text/html": [
              "<pre style=\"white-space:pre;overflow-x:auto;line-height:normal;font-family:Menlo,'DejaVu Sans Mono',consolas,'Courier New',monospace\"></pre>\n"
            ]
          },
          "metadata": {}
        },
        {
          "output_type": "stream",
          "name": "stdout",
          "text": [
            "IIM Model sampling complete.\n"
          ]
        }
      ]
    },
    {
      "cell_type": "code",
      "source": [
        "# Combine the traces into a dictionary for comparison\n",
        "model_traces = {'Standard Model': trace_standard, 'IIM Anomaly Model': trace_iim}\n",
        "\n",
        "# Perform the model comparison\n",
        "comparison = az.compare(model_traces)\n",
        "\n",
        "print(\"\\n--- Final Bayesian Model Comparison (Black Hole Spins) ---\")\n",
        "print(comparison)\n",
        "az.plot_compare(comparison)\n",
        "\n",
        "# Analyze the key IIM parameter: the gravitational anomaly delta_G\n",
        "print(\"\\n--- Analysis of IIM Gravitational Anomaly (delta_G) ---\")\n",
        "az.plot_posterior(trace_iim, var_names=['delta_G'])"
      ],
      "metadata": {
        "colab": {
          "base_uri": "https://localhost:8080/",
          "height": 1000
        },
        "id": "ix78UAfyYZ4U",
        "outputId": "525331e6-ad3c-46c9-a46d-d45d578f024f"
      },
      "execution_count": null,
      "outputs": [
        {
          "output_type": "stream",
          "name": "stderr",
          "text": [
            "/usr/local/lib/python3.11/dist-packages/arviz/stats/stats.py:797: UserWarning: Estimated shape parameter of Pareto distribution is greater than 0.70 for one or more samples. You should consider using a more robust model, this is because importance sampling is less likely to work well if the marginal posterior and LOO posterior are very different. This is more likely to happen with a non-robust model and highly influential observations.\n",
            "  warnings.warn(\n",
            "/usr/local/lib/python3.11/dist-packages/arviz/stats/stats.py:797: UserWarning: Estimated shape parameter of Pareto distribution is greater than 0.70 for one or more samples. You should consider using a more robust model, this is because importance sampling is less likely to work well if the marginal posterior and LOO posterior are very different. This is more likely to happen with a non-robust model and highly influential observations.\n",
            "  warnings.warn(\n"
          ]
        },
        {
          "output_type": "stream",
          "name": "stdout",
          "text": [
            "\n",
            "--- Final Bayesian Model Comparison (Black Hole Spins) ---\n",
            "                   rank   elpd_loo      p_loo  elpd_diff        weight  \\\n",
            "IIM Anomaly Model     0 -19.394666   7.327250   0.000000  1.000000e+00   \n",
            "Standard Model        1 -43.057270  11.610711  23.662603  1.385558e-13   \n",
            "\n",
            "                          se       dse  warning scale  \n",
            "IIM Anomaly Model   8.393138  0.000000     True   log  \n",
            "Standard Model     10.535488  2.505241     True   log  \n",
            "\n",
            "--- Analysis of IIM Gravitational Anomaly (delta_G) ---\n"
          ]
        },
        {
          "output_type": "execute_result",
          "data": {
            "text/plain": [
              "<Axes: title={'center': 'delta_G'}>"
            ]
          },
          "metadata": {},
          "execution_count": 6
        },
        {
          "output_type": "display_data",
          "data": {
            "text/plain": [
              "<Figure size 600x200 with 1 Axes>"
            ],
            "image/png": "[encoded data removed]"
          },
          "metadata": {}
        },
        {
          "output_type": "display_data",
          "data": {
            "text/plain": [
              "<Figure size 640x480 with 1 Axes>"
            ],
            "image/png": "[encoded data removed]"
          },
          "metadata": {}
        }
      ]
    }
  ]
}