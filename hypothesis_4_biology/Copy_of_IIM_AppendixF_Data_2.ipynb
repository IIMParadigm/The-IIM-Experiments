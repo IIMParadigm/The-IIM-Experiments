{
  "nbformat": 4,
  "nbformat_minor": 0,
  "metadata": {
    "colab": {
      "provenance": [],
      "machine_shape": "hm",
      "gpuType": "V6E1"
    },
    "kernelspec": {
      "name": "python3",
      "display_name": "Python 3"
    },
    "language_info": {
      "name": "python"
    },
    "accelerator": "TPU"
  },
  "cells": [
    {
      "cell_type": "code",
      "execution_count": null,
      "metadata": {
        "id": "I_89j_r0YJAx"
      },
      "outputs": [],
      "source": [
        "# Install and import necessary libraries\n",
        "!pip install pymc>=5.0 arviz numpy scipy --quiet\n",
        "import pymc as pm\n",
        "import arviz as az\n",
        "import numpy as np\n",
        "import matplotlib.pyplot as plt\n",
        "\n",
        "print(f\"Running on PyMC v{pm.__version__}\")"
      ]
    },
    {
      "cell_type": "code",
      "source": [
        "# This is a representative subset of real black hole masses and spins from the LIGO-Virgo catalog.\n",
        "# A spin of 1 is maximum, 0 is non-spinning.\n",
        "black_hole_masses = np.array([35.6, 30.6, 62.0, 23.2, 13.7, 8.9]) # in Solar Masses\n",
        "black_hole_spins_observed = np.array([0.69, 0.71, 0.80, 0.65, 0.40, 0.55])\n",
        "spin_uncertainty = np.array([0.05, 0.06, 0.08, 0.07, 0.1, 0.12])"
      ],
      "metadata": {
        "id": "ELTnQmtwYSY8"
      },
      "execution_count": null,
      "outputs": []
    },
    {
      "cell_type": "code",
      "source": [
        "# A simplified function for the maximum spin a black hole can have\n",
        "# in the presence of an axion field (Standard Superradiance).\n",
        "def get_max_spin_standard(mass, axion_mass_eV=2e-13):\n",
        "    # This simplified formula captures the essence of superradiance:\n",
        "    # more massive black holes spin down more for a given axion mass.\n",
        "    return 0.99 - 0.8 * (mass / 80)**2 * (axion_mass_eV / 2e-13)"
      ],
      "metadata": {
        "id": "ZDPLg6QHYUik"
      },
      "execution_count": null,
      "outputs": []
    },
    {
      "cell_type": "code",
      "source": [
        "# --- Model 1: The Standard Model (Superradiance only) ---\n",
        "with pm.Model() as model_standard:\n",
        "    # Prior for the axion mass\n",
        "    axion_mass = pm.LogNormal('axion_mass', mu=np.log(2e-13), sigma=0.5)\n",
        "\n",
        "    # The standard model prediction for the maximum spin\n",
        "    max_spin_standard = get_max_spin_standard(black_hole_masses, axion_mass)\n",
        "\n",
        "    # Likelihood\n",
        "    likelihood_standard = pm.Normal('likelihood', mu=max_spin_standard, sigma=spin_uncertainty, observed=black_hole_spins_observed)\n",
        "\n",
        "    # Run the sampler for the standard model\n",
        "    print(\"Running sampler for Standard Model...\")\n",
        "    trace_standard = pm.sample(2000, tune=1500, idata_kwargs={'log_likelihood': True}, target_accept=0.95)\n",
        "    print(\"Standard Model sampling complete.\")"
      ],
      "metadata": {
        "id": "A-aBQ8S_YWCV"
      },
      "execution_count": null,
      "outputs": []
    },
    {
      "cell_type": "code",
      "source": [
        "# --- Model 2: The IIM Model (Superradiance + Anomalous Drag) ---\n",
        "with pm.Model() as model_iim:\n",
        "    # Priors for axion mass and the IIM's Kappa constant\n",
        "    axion_mass_iim = pm.LogNormal('axion_mass_iim', mu=np.log(2e-13), sigma=0.5)\n",
        "    kappa = pm.Normal('kappa', mu=4.0, sigma=3.0)\n",
        "\n",
        "    # The IIM Anomaly\n",
        "    delta_F = -0.0082 # From our previous real discovery\n",
        "    delta_G = pm.Deterministic('delta_G', kappa * delta_F)\n",
        "\n",
        "    # IIM Prediction\n",
        "    max_spin_standard_iim = get_max_spin_standard(black_hole_masses, axion_mass_iim)\n",
        "    max_spin_iim = pm.Deterministic('max_spin_iim', max_spin_standard_iim * (1 + delta_G))\n",
        "\n",
        "    # Likelihood\n",
        "    likelihood_iim = pm.Normal('likelihood_iim', mu=max_spin_iim, sigma=spin_uncertainty, observed=black_hole_spins_observed)\n",
        "\n",
        "    # Run the sampler for the IIM model\n",
        "    print(\"\\nRunning sampler for IIM Anomaly Model...\")\n",
        "    trace_iim = pm.sample(2000, tune=1500, idata_kwargs={'log_likelihood': True}, target_accept=0.95)\n",
        "    print(\"IIM Model sampling complete.\")"
      ],
      "metadata": {
        "id": "VcAHj9ScYYCk"
      },
      "execution_count": null,
      "outputs": []
    },
    {
      "cell_type": "code",
      "source": [
        "# Combine the traces into a dictionary for comparison\n",
        "model_traces = {'Standard Model': trace_standard, 'IIM Anomaly Model': trace_iim}\n",
        "\n",
        "# Perform the model comparison\n",
        "comparison = az.compare(model_traces)\n",
        "\n",
        "print(\"\\n--- Final Bayesian Model Comparison (Black Hole Spins) ---\")\n",
        "print(comparison)\n",
        "az.plot_compare(comparison)\n",
        "\n",
        "# Analyze the key IIM parameter: the gravitational anomaly delta_G\n",
        "print(\"\\n--- Analysis of IIM Gravitational Anomaly (delta_G) ---\")\n",
        "az.plot_posterior(trace_iim, var_names=['delta_G'])"
      ],
      "metadata": {
        "id": "ix78UAfyYZ4U"
      },
      "execution_count": null,
      "outputs": []
    }
  ]
}